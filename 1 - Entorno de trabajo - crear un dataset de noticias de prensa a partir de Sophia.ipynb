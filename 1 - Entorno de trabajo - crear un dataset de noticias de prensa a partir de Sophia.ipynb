{
 "cells": [
  {
   "cell_type": "markdown",
   "id": "00bc0c0a",
   "metadata": {},
   "source": [
    "# Entorno de trabajo: Crear un dataset de noticias de prensa a partir del motor de búsqueda Sophia"
   ]
  },
  {
   "cell_type": "markdown",
   "id": "dc35efc7",
   "metadata": {},
   "source": [
    "Este notebook muestra una manera de extraer noticias desde el motor de búsqueda de _Sophia_, a partir de una **palabra clave**, un **país** y un **periodo de tiempo**.\n",
    "\n",
    "\n",
    "_Sophia_ es un proyecto I+i+D desarrollado en la Universidad Austral de Chile desde 2019. El motor de búsqueda se encuentra en fase de mejoramiento continuo. Por cualquier pregunta o problema técnica con este notebook, no dudar en contactarme por Discord (@MatthieuVernier) o por correo mvernier@inf.uach.cl."
   ]
  },
  {
   "cell_type": "markdown",
   "id": "b60b79ff",
   "metadata": {},
   "source": [
    "## 0. Librerías útiles"
   ]
  },
  {
   "cell_type": "markdown",
   "id": "0284eded",
   "metadata": {},
   "source": [
    "- Elasticsearch es el motor de búsqueda utilizado por Sophia\n",
    "- Requiere la instalación del paquete elasticsearch"
   ]
  },
  {
   "cell_type": "code",
   "execution_count": 1,
   "id": "b500b748",
   "metadata": {},
   "outputs": [
    {
     "name": "stdout",
     "output_type": "stream",
     "text": [
      "Python 3.8.10\r\n"
     ]
    }
   ],
   "source": [
    "!python -V"
   ]
  },
  {
   "cell_type": "code",
   "execution_count": 2,
   "id": "0420b9c3",
   "metadata": {},
   "outputs": [
    {
     "name": "stdout",
     "output_type": "stream",
     "text": [
      "Requirement already satisfied: elasticsearch==7.16.3 in /home/mvernier/.local/lib/python3.8/site-packages (7.16.3)\n",
      "Requirement already satisfied: urllib3<2,>=1.21.1 in /usr/lib/python3/dist-packages (from elasticsearch==7.16.3) (1.25.8)\n",
      "Requirement already satisfied: certifi in /usr/lib/python3/dist-packages (from elasticsearch==7.16.3) (2019.11.28)\n"
     ]
    }
   ],
   "source": [
    "!pip install elasticsearch==7.16.3"
   ]
  },
  {
   "cell_type": "code",
   "execution_count": 6,
   "id": "8e32dfe6",
   "metadata": {},
   "outputs": [],
   "source": [
    "import elasticsearch\n",
    "from datetime import datetime"
   ]
  },
  {
   "cell_type": "code",
   "execution_count": 7,
   "id": "c05e81be",
   "metadata": {},
   "outputs": [
    {
     "data": {
      "text/plain": [
       "(7, 16, 3)"
      ]
     },
     "execution_count": 7,
     "metadata": {},
     "output_type": "execute_result"
    }
   ],
   "source": [
    "elasticsearch.__version__"
   ]
  },
  {
   "cell_type": "markdown",
   "id": "05a9c8c7",
   "metadata": {},
   "source": [
    "## 1. Parámetros de la búsqueda"
   ]
  },
  {
   "cell_type": "markdown",
   "id": "64de7603",
   "metadata": {},
   "source": [
    "Características del motor de búsqueda:  \n",
    "- El formato de las fechas es: YYYY-MM-DD\n",
    "- El motor de búsqueda incluye noticias por distintos paises, pero se recomienda utilizar \"chile\" por el momento.\n",
    "- El motor de búsqueda incluye datos entre el año 2000 y el año 2021."
   ]
  },
  {
   "cell_type": "code",
   "execution_count": 8,
   "id": "ce408e4d",
   "metadata": {},
   "outputs": [],
   "source": [
    "country=\"chile\"\n",
    "from_=\"2021-10-01\"\n",
    "to_=\"2021-10-08\"\n",
    "media_outlets=[\"elllanquihue\",\"elaustral\",\"laestrelladechiloe\",\"elheraldoaustral\",\"radiosago\",\n",
    "               \"elrepuertero\",\"elvacanudo\",\"elhuemul\",\"seminariolocal\",\"elquellonino\",\"elinsular\",\n",
    "               \"radiopudeto\",\"radioacogida\",\"elcalbucano\",\"segundos33\",\n",
    "               \"prensadelestuario\",\"fresiaahora\",\"soychiloe\"]\n",
    "\n",
    "keyword=\"\"\n",
    "simple_keyword=False"
   ]
  },
  {
   "cell_type": "markdown",
   "id": "6efe0b5a",
   "metadata": {},
   "source": [
    "## 2. Parámetros de conexión al motor de búsqueda de Sophia"
   ]
  },
  {
   "cell_type": "code",
   "execution_count": 18,
   "id": "7acec13c",
   "metadata": {},
   "outputs": [],
   "source": [
    "IP = \"search.sophia2.org\"\n",
    "PORT = 9200\n",
    "USER= \"elastic\"\n",
    "PASS= \"dummy_elastic\""
   ]
  },
  {
   "cell_type": "code",
   "execution_count": 19,
   "id": "621d9af0",
   "metadata": {},
   "outputs": [],
   "source": [
    "#NO MODIFICAR\n",
    "\n",
    "es = elasticsearch.Elasticsearch(\n",
    "    IP,\n",
    "    #port=PORT,\n",
    "    http_auth=(USER, PASS)\n",
    ")"
   ]
  },
  {
   "cell_type": "markdown",
   "id": "440d3027",
   "metadata": {},
   "source": [
    "## 3. Búsqueda de noticias de prensa"
   ]
  },
  {
   "cell_type": "markdown",
   "id": "baeb2ceb",
   "metadata": {},
   "source": [
    "- Preparación de la consulta en el formato solicitado por Elasticsearch"
   ]
  },
  {
   "cell_type": "code",
   "execution_count": 20,
   "id": "7fdb0b5e",
   "metadata": {},
   "outputs": [],
   "source": [
    "#NO MODIFICAR\n",
    "match=\"\"\n",
    "if (simple_keyword):\n",
    "    match=\"match\"\n",
    "else:\n",
    "    match=\"match_phrase\"\n",
    "\n",
    "query = { \n",
    "    \"bool\": { \n",
    "      #\"must\": [\n",
    "      #  {match: { \"text\":keyword}}\n",
    "\n",
    "      #],\n",
    "    \"filter\": [\n",
    "        {\"range\": {\n",
    "      \"date\": {\n",
    "        \"gte\": from_,\n",
    "        \"lt\": to_\n",
    "      }}},\n",
    "        { \"term\":  { \"country\": country }},\n",
    "        { \"terms\":  { \"media_outlet\": media_outlets }} \n",
    "    ]\n",
    "    }  \n",
    "}"
   ]
  },
  {
   "cell_type": "markdown",
   "id": "025f7b7c",
   "metadata": {},
   "source": [
    "- Envio de la consulta\n",
    "- No se puede devolver más de 10.000 noticias. En caso de obtener 10.000 respuestas, se recomienda buscar en un periodo de tiempo más corto o modificar la consulta."
   ]
  },
  {
   "cell_type": "code",
   "execution_count": 21,
   "id": "75593058",
   "metadata": {},
   "outputs": [
    {
     "name": "stdout",
     "output_type": "stream",
     "text": [
      "Son 1651 noticias encontradas...\n"
     ]
    }
   ],
   "source": [
    "res = es.search(index=\"news\", query=query, size=10000)\n",
    "print(\"Son %d noticias encontradas...\" % res['hits']['total']['value'])"
   ]
  },
  {
   "cell_type": "markdown",
   "id": "84d3ebba",
   "metadata": {},
   "source": [
    "## 4. Guardar los datos en un dataframe Pandas y en un archivo CSV"
   ]
  },
  {
   "cell_type": "code",
   "execution_count": 17,
   "id": "c40a60d6",
   "metadata": {},
   "outputs": [
    {
     "data": {
      "text/html": [
       "<div>\n",
       "<style scoped>\n",
       "    .dataframe tbody tr th:only-of-type {\n",
       "        vertical-align: middle;\n",
       "    }\n",
       "\n",
       "    .dataframe tbody tr th {\n",
       "        vertical-align: top;\n",
       "    }\n",
       "\n",
       "    .dataframe thead th {\n",
       "        text-align: right;\n",
       "    }\n",
       "</style>\n",
       "<table border=\"1\" class=\"dataframe\">\n",
       "  <thead>\n",
       "    <tr style=\"text-align: right;\">\n",
       "      <th></th>\n",
       "      <th>id_news</th>\n",
       "      <th>country</th>\n",
       "      <th>media_outlet</th>\n",
       "      <th>url</th>\n",
       "      <th>title</th>\n",
       "      <th>text</th>\n",
       "      <th>date</th>\n",
       "      <th>search</th>\n",
       "    </tr>\n",
       "  </thead>\n",
       "  <tbody>\n",
       "    <tr>\n",
       "      <th>0</th>\n",
       "      <td>21912502.0</td>\n",
       "      <td>chile</td>\n",
       "      <td>radiosago</td>\n",
       "      <td>https://www.radiosago.cl/corte-suprema-desesti...</td>\n",
       "      <td>Corte Suprema desestimó solicitud del Municipi...</td>\n",
       "      <td>Luego que la Tercera Sala de la Corte Suprema ...</td>\n",
       "      <td>2021-10-07</td>\n",
       "      <td></td>\n",
       "    </tr>\n",
       "    <tr>\n",
       "      <th>1</th>\n",
       "      <td>21912503.0</td>\n",
       "      <td>chile</td>\n",
       "      <td>radiosago</td>\n",
       "      <td>https://www.radiosago.cl/28-contagios-y-2-fall...</td>\n",
       "      <td>28 contagios y 2 fallecidos por covid-19 se re...</td>\n",
       "      <td>Así lo dio a conocer la autoridad sanitaria, d...</td>\n",
       "      <td>2021-10-07</td>\n",
       "      <td></td>\n",
       "    </tr>\n",
       "    <tr>\n",
       "      <th>2</th>\n",
       "      <td>21912771.0</td>\n",
       "      <td>chile</td>\n",
       "      <td>radiosago</td>\n",
       "      <td>https://www.radiosago.cl/mas-de-10-mil-trabaja...</td>\n",
       "      <td>Más de 10 mil trabajadores de la región de Los...</td>\n",
       "      <td>Cabe consinar que a nivel nacional son más 21...</td>\n",
       "      <td>2021-10-06</td>\n",
       "      <td></td>\n",
       "    </tr>\n",
       "    <tr>\n",
       "      <th>3</th>\n",
       "      <td>21912783.0</td>\n",
       "      <td>chile</td>\n",
       "      <td>radiosago</td>\n",
       "      <td>https://www.radiosago.cl/adultos-mayores-y-ser...</td>\n",
       "      <td>Adultos mayores y servicios analizan la posibi...</td>\n",
       "      <td>Con la participación de representantes de adul...</td>\n",
       "      <td>2021-10-05</td>\n",
       "      <td></td>\n",
       "    </tr>\n",
       "    <tr>\n",
       "      <th>4</th>\n",
       "      <td>21912788.0</td>\n",
       "      <td>chile</td>\n",
       "      <td>radiosago</td>\n",
       "      <td>https://www.radiosago.cl/monumentos-nacionales...</td>\n",
       "      <td>Monumentos Nacionales inicia trabajos de norma...</td>\n",
       "      <td>El objetivo es adecuar el sistema eléctrico a...</td>\n",
       "      <td>2021-10-06</td>\n",
       "      <td></td>\n",
       "    </tr>\n",
       "    <tr>\n",
       "      <th>...</th>\n",
       "      <td>...</td>\n",
       "      <td>...</td>\n",
       "      <td>...</td>\n",
       "      <td>...</td>\n",
       "      <td>...</td>\n",
       "      <td>...</td>\n",
       "      <td>...</td>\n",
       "      <td>...</td>\n",
       "    </tr>\n",
       "    <tr>\n",
       "      <th>1646</th>\n",
       "      <td>47528526.0</td>\n",
       "      <td>chile</td>\n",
       "      <td>laestrelladechiloe</td>\n",
       "      <td>https://www.laestrellachiloe.cl/impresa/2021/1...</td>\n",
       "      <td>Casas de apuestas tienen sus favoritos para el...</td>\n",
       "      <td>La autora francesa Annie Ernaux está entre las...</td>\n",
       "      <td>2021-10-07</td>\n",
       "      <td></td>\n",
       "    </tr>\n",
       "    <tr>\n",
       "      <th>1647</th>\n",
       "      <td>47528527.0</td>\n",
       "      <td>chile</td>\n",
       "      <td>laestrelladechiloe</td>\n",
       "      <td>https://www.laestrellachiloe.cl/impresa/2021/1...</td>\n",
       "      <td>La pelea de Residente y J Balvin no para: \"No ...</td>\n",
       "      <td>En los últimos días se escribió un nuevo capít...</td>\n",
       "      <td>2021-10-07</td>\n",
       "      <td></td>\n",
       "    </tr>\n",
       "    <tr>\n",
       "      <th>1648</th>\n",
       "      <td>47528529.0</td>\n",
       "      <td>chile</td>\n",
       "      <td>laestrelladechiloe</td>\n",
       "      <td>https://www.laestrellachiloe.cl/impresa/2021/1...</td>\n",
       "      <td>Adele anuncia nueva canción a seis años de su ...</td>\n",
       "      <td>La cantante británica Adele desclasificó el ad...</td>\n",
       "      <td>2021-10-07</td>\n",
       "      <td></td>\n",
       "    </tr>\n",
       "    <tr>\n",
       "      <th>1649</th>\n",
       "      <td>47528530.0</td>\n",
       "      <td>chile</td>\n",
       "      <td>laestrelladechiloe</td>\n",
       "      <td>https://www.laestrellachiloe.cl/impresa/2021/1...</td>\n",
       "      <td>Revelan el primer adelanto de \"House of the Dr...</td>\n",
       "      <td>Sin anuncio previo, HBO lanzó el primer adelan...</td>\n",
       "      <td>2021-10-07</td>\n",
       "      <td></td>\n",
       "    </tr>\n",
       "    <tr>\n",
       "      <th>1650</th>\n",
       "      <td>47528532.0</td>\n",
       "      <td>chile</td>\n",
       "      <td>laestrelladechiloe</td>\n",
       "      <td>https://www.laestrellachiloe.cl/impresa/2021/1...</td>\n",
       "      <td>El regreso de las celebraciones religiosas: Cu...</td>\n",
       "      <td>Luego de que en 2020 tuvieran que realizar una...</td>\n",
       "      <td>2021-10-07</td>\n",
       "      <td></td>\n",
       "    </tr>\n",
       "  </tbody>\n",
       "</table>\n",
       "<p>1651 rows × 8 columns</p>\n",
       "</div>"
      ],
      "text/plain": [
       "         id_news country        media_outlet  \\\n",
       "0     21912502.0   chile           radiosago   \n",
       "1     21912503.0   chile           radiosago   \n",
       "2     21912771.0   chile           radiosago   \n",
       "3     21912783.0   chile           radiosago   \n",
       "4     21912788.0   chile           radiosago   \n",
       "...          ...     ...                 ...   \n",
       "1646  47528526.0   chile  laestrelladechiloe   \n",
       "1647  47528527.0   chile  laestrelladechiloe   \n",
       "1648  47528529.0   chile  laestrelladechiloe   \n",
       "1649  47528530.0   chile  laestrelladechiloe   \n",
       "1650  47528532.0   chile  laestrelladechiloe   \n",
       "\n",
       "                                                    url  \\\n",
       "0     https://www.radiosago.cl/corte-suprema-desesti...   \n",
       "1     https://www.radiosago.cl/28-contagios-y-2-fall...   \n",
       "2     https://www.radiosago.cl/mas-de-10-mil-trabaja...   \n",
       "3     https://www.radiosago.cl/adultos-mayores-y-ser...   \n",
       "4     https://www.radiosago.cl/monumentos-nacionales...   \n",
       "...                                                 ...   \n",
       "1646  https://www.laestrellachiloe.cl/impresa/2021/1...   \n",
       "1647  https://www.laestrellachiloe.cl/impresa/2021/1...   \n",
       "1648  https://www.laestrellachiloe.cl/impresa/2021/1...   \n",
       "1649  https://www.laestrellachiloe.cl/impresa/2021/1...   \n",
       "1650  https://www.laestrellachiloe.cl/impresa/2021/1...   \n",
       "\n",
       "                                                  title  \\\n",
       "0     Corte Suprema desestimó solicitud del Municipi...   \n",
       "1     28 contagios y 2 fallecidos por covid-19 se re...   \n",
       "2     Más de 10 mil trabajadores de la región de Los...   \n",
       "3     Adultos mayores y servicios analizan la posibi...   \n",
       "4     Monumentos Nacionales inicia trabajos de norma...   \n",
       "...                                                 ...   \n",
       "1646  Casas de apuestas tienen sus favoritos para el...   \n",
       "1647  La pelea de Residente y J Balvin no para: \"No ...   \n",
       "1648  Adele anuncia nueva canción a seis años de su ...   \n",
       "1649  Revelan el primer adelanto de \"House of the Dr...   \n",
       "1650  El regreso de las celebraciones religiosas: Cu...   \n",
       "\n",
       "                                                   text        date search  \n",
       "0     Luego que la Tercera Sala de la Corte Suprema ...  2021-10-07         \n",
       "1     Así lo dio a conocer la autoridad sanitaria, d...  2021-10-07         \n",
       "2      Cabe consinar que a nivel nacional son más 21...  2021-10-06         \n",
       "3     Con la participación de representantes de adul...  2021-10-05         \n",
       "4      El objetivo es adecuar el sistema eléctrico a...  2021-10-06         \n",
       "...                                                 ...         ...    ...  \n",
       "1646  La autora francesa Annie Ernaux está entre las...  2021-10-07         \n",
       "1647  En los últimos días se escribió un nuevo capít...  2021-10-07         \n",
       "1648  La cantante británica Adele desclasificó el ad...  2021-10-07         \n",
       "1649  Sin anuncio previo, HBO lanzó el primer adelan...  2021-10-07         \n",
       "1650  Luego de que en 2020 tuvieran que realizar una...  2021-10-07         \n",
       "\n",
       "[1651 rows x 8 columns]"
      ]
     },
     "execution_count": 17,
     "metadata": {},
     "output_type": "execute_result"
    }
   ],
   "source": [
    "import pandas as pd\n",
    "\n",
    "data = {'id_news':[],'country':[],'media_outlet':[],'url':[],'title':[],'text':[],'date':[],'search':[]}\n",
    "\n",
    "df = pd.DataFrame(data)  \n",
    "  \n",
    "for hit in res['hits']['hits']:\n",
    "    id_news = hit['_source']['id_news']\n",
    "    country = hit['_source']['country']\n",
    "    media_outlet = hit['_source']['media_outlet']\n",
    "    url = hit['_source']['url']\n",
    "    title = hit['_source']['title']\n",
    "    text = hit['_source']['text']\n",
    "    date = hit['_source']['date']\n",
    "    search = keyword\n",
    "    \n",
    "    new_row = {'id_news':id_news, 'country':country, 'media_outlet':media_outlet, 'url':url, 'title':title, 'text':text, 'date':date, 'search':search}\n",
    "    \n",
    "    df = df.append(new_row, ignore_index=True)\n",
    "\n",
    "df"
   ]
  },
  {
   "cell_type": "markdown",
   "id": "ff4b15bf",
   "metadata": {},
   "source": [
    "- Verifiquemos si existen noticias con la misma URL"
   ]
  },
  {
   "cell_type": "code",
   "execution_count": 17,
   "id": "1cc732ad",
   "metadata": {},
   "outputs": [
    {
     "data": {
      "text/plain": [
       "True"
      ]
     },
     "execution_count": 17,
     "metadata": {},
     "output_type": "execute_result"
    }
   ],
   "source": [
    "df['url'].duplicated().any()"
   ]
  },
  {
   "cell_type": "markdown",
   "id": "8e7424a0",
   "metadata": {},
   "source": [
    "- Eliminar las noticias duplicadas"
   ]
  },
  {
   "cell_type": "code",
   "execution_count": 18,
   "id": "a2251d2c",
   "metadata": {},
   "outputs": [],
   "source": [
    "df = df.drop_duplicates(subset='url', keep='first')"
   ]
  },
  {
   "cell_type": "code",
   "execution_count": 19,
   "id": "466d6859",
   "metadata": {},
   "outputs": [
    {
     "data": {
      "text/html": [
       "<div>\n",
       "<style scoped>\n",
       "    .dataframe tbody tr th:only-of-type {\n",
       "        vertical-align: middle;\n",
       "    }\n",
       "\n",
       "    .dataframe tbody tr th {\n",
       "        vertical-align: top;\n",
       "    }\n",
       "\n",
       "    .dataframe thead th {\n",
       "        text-align: right;\n",
       "    }\n",
       "</style>\n",
       "<table border=\"1\" class=\"dataframe\">\n",
       "  <thead>\n",
       "    <tr style=\"text-align: right;\">\n",
       "      <th></th>\n",
       "      <th>id_news</th>\n",
       "      <th>country</th>\n",
       "      <th>media_outlet</th>\n",
       "      <th>url</th>\n",
       "      <th>title</th>\n",
       "      <th>text</th>\n",
       "      <th>date</th>\n",
       "      <th>search</th>\n",
       "    </tr>\n",
       "  </thead>\n",
       "  <tbody>\n",
       "    <tr>\n",
       "      <th>0</th>\n",
       "      <td>21912502.0</td>\n",
       "      <td>chile</td>\n",
       "      <td>radiosago</td>\n",
       "      <td>https://www.radiosago.cl/corte-suprema-desesti...</td>\n",
       "      <td>Corte Suprema desestimó solicitud del Municipi...</td>\n",
       "      <td>Luego que la Tercera Sala de la Corte Suprema ...</td>\n",
       "      <td>2021-10-07</td>\n",
       "      <td></td>\n",
       "    </tr>\n",
       "    <tr>\n",
       "      <th>1</th>\n",
       "      <td>21912503.0</td>\n",
       "      <td>chile</td>\n",
       "      <td>radiosago</td>\n",
       "      <td>https://www.radiosago.cl/28-contagios-y-2-fall...</td>\n",
       "      <td>28 contagios y 2 fallecidos por covid-19 se re...</td>\n",
       "      <td>Así lo dio a conocer la autoridad sanitaria, d...</td>\n",
       "      <td>2021-10-07</td>\n",
       "      <td></td>\n",
       "    </tr>\n",
       "    <tr>\n",
       "      <th>2</th>\n",
       "      <td>21912771.0</td>\n",
       "      <td>chile</td>\n",
       "      <td>radiosago</td>\n",
       "      <td>https://www.radiosago.cl/mas-de-10-mil-trabaja...</td>\n",
       "      <td>Más de 10 mil trabajadores de la región de Los...</td>\n",
       "      <td>Cabe consinar que a nivel nacional son más 21...</td>\n",
       "      <td>2021-10-06</td>\n",
       "      <td></td>\n",
       "    </tr>\n",
       "    <tr>\n",
       "      <th>3</th>\n",
       "      <td>21912783.0</td>\n",
       "      <td>chile</td>\n",
       "      <td>radiosago</td>\n",
       "      <td>https://www.radiosago.cl/adultos-mayores-y-ser...</td>\n",
       "      <td>Adultos mayores y servicios analizan la posibi...</td>\n",
       "      <td>Con la participación de representantes de adul...</td>\n",
       "      <td>2021-10-05</td>\n",
       "      <td></td>\n",
       "    </tr>\n",
       "    <tr>\n",
       "      <th>4</th>\n",
       "      <td>21912788.0</td>\n",
       "      <td>chile</td>\n",
       "      <td>radiosago</td>\n",
       "      <td>https://www.radiosago.cl/monumentos-nacionales...</td>\n",
       "      <td>Monumentos Nacionales inicia trabajos de norma...</td>\n",
       "      <td>El objetivo es adecuar el sistema eléctrico a...</td>\n",
       "      <td>2021-10-06</td>\n",
       "      <td></td>\n",
       "    </tr>\n",
       "    <tr>\n",
       "      <th>...</th>\n",
       "      <td>...</td>\n",
       "      <td>...</td>\n",
       "      <td>...</td>\n",
       "      <td>...</td>\n",
       "      <td>...</td>\n",
       "      <td>...</td>\n",
       "      <td>...</td>\n",
       "      <td>...</td>\n",
       "    </tr>\n",
       "    <tr>\n",
       "      <th>1081</th>\n",
       "      <td>47525899.0</td>\n",
       "      <td>chile</td>\n",
       "      <td>elaustral</td>\n",
       "      <td>https://www.australosorno.cl/impresa/2021/10/0...</td>\n",
       "      <td>Piden prisión preventiva para dos exdirectores...</td>\n",
       "      <td>Este miércoles continuó en el Séptimo Juzgado ...</td>\n",
       "      <td>2021-10-07</td>\n",
       "      <td></td>\n",
       "    </tr>\n",
       "    <tr>\n",
       "      <th>1315</th>\n",
       "      <td>47525656.0</td>\n",
       "      <td>chile</td>\n",
       "      <td>elaustral</td>\n",
       "      <td>https://www.australosorno.cl/impresa/2021/10/0...</td>\n",
       "      <td>Elisa Loncon estima que Constitución comenzará...</td>\n",
       "      <td>Tal como lo proyectó el vicepresidente Jaime B...</td>\n",
       "      <td>2021-10-05</td>\n",
       "      <td></td>\n",
       "    </tr>\n",
       "    <tr>\n",
       "      <th>1316</th>\n",
       "      <td>47525657.0</td>\n",
       "      <td>chile</td>\n",
       "      <td>elaustral</td>\n",
       "      <td>https://www.australosorno.cl/impresa/2021/10/0...</td>\n",
       "      <td>Cuarto retiro: Letelier se abre a aprobarlo y ...</td>\n",
       "      <td>Este miércoles la Comisión de Constitución del...</td>\n",
       "      <td>2021-10-05</td>\n",
       "      <td></td>\n",
       "    </tr>\n",
       "    <tr>\n",
       "      <th>1320</th>\n",
       "      <td>47525661.0</td>\n",
       "      <td>chile</td>\n",
       "      <td>elaustral</td>\n",
       "      <td>https://www.australosorno.cl/impresa/2021/10/0...</td>\n",
       "      <td>Se abren investigaciones a líderes involucrado...</td>\n",
       "      <td>Tras la polémica revelación de los llamados Pa...</td>\n",
       "      <td>2021-10-05</td>\n",
       "      <td></td>\n",
       "    </tr>\n",
       "    <tr>\n",
       "      <th>1367</th>\n",
       "      <td>47525651.0</td>\n",
       "      <td>chile</td>\n",
       "      <td>elaustral</td>\n",
       "      <td>https://www.australosorno.cl/impresa/2021/10/0...</td>\n",
       "      <td>Dominga: Piñera niega conflicto de interés y t...</td>\n",
       "      <td>El Presidente Sebastián Piñera respondió ayer ...</td>\n",
       "      <td>2021-10-05</td>\n",
       "      <td></td>\n",
       "    </tr>\n",
       "  </tbody>\n",
       "</table>\n",
       "<p>588 rows × 8 columns</p>\n",
       "</div>"
      ],
      "text/plain": [
       "         id_news country media_outlet  \\\n",
       "0     21912502.0   chile    radiosago   \n",
       "1     21912503.0   chile    radiosago   \n",
       "2     21912771.0   chile    radiosago   \n",
       "3     21912783.0   chile    radiosago   \n",
       "4     21912788.0   chile    radiosago   \n",
       "...          ...     ...          ...   \n",
       "1081  47525899.0   chile    elaustral   \n",
       "1315  47525656.0   chile    elaustral   \n",
       "1316  47525657.0   chile    elaustral   \n",
       "1320  47525661.0   chile    elaustral   \n",
       "1367  47525651.0   chile    elaustral   \n",
       "\n",
       "                                                    url  \\\n",
       "0     https://www.radiosago.cl/corte-suprema-desesti...   \n",
       "1     https://www.radiosago.cl/28-contagios-y-2-fall...   \n",
       "2     https://www.radiosago.cl/mas-de-10-mil-trabaja...   \n",
       "3     https://www.radiosago.cl/adultos-mayores-y-ser...   \n",
       "4     https://www.radiosago.cl/monumentos-nacionales...   \n",
       "...                                                 ...   \n",
       "1081  https://www.australosorno.cl/impresa/2021/10/0...   \n",
       "1315  https://www.australosorno.cl/impresa/2021/10/0...   \n",
       "1316  https://www.australosorno.cl/impresa/2021/10/0...   \n",
       "1320  https://www.australosorno.cl/impresa/2021/10/0...   \n",
       "1367  https://www.australosorno.cl/impresa/2021/10/0...   \n",
       "\n",
       "                                                  title  \\\n",
       "0     Corte Suprema desestimó solicitud del Municipi...   \n",
       "1     28 contagios y 2 fallecidos por covid-19 se re...   \n",
       "2     Más de 10 mil trabajadores de la región de Los...   \n",
       "3     Adultos mayores y servicios analizan la posibi...   \n",
       "4     Monumentos Nacionales inicia trabajos de norma...   \n",
       "...                                                 ...   \n",
       "1081  Piden prisión preventiva para dos exdirectores...   \n",
       "1315  Elisa Loncon estima que Constitución comenzará...   \n",
       "1316  Cuarto retiro: Letelier se abre a aprobarlo y ...   \n",
       "1320  Se abren investigaciones a líderes involucrado...   \n",
       "1367  Dominga: Piñera niega conflicto de interés y t...   \n",
       "\n",
       "                                                   text        date search  \n",
       "0     Luego que la Tercera Sala de la Corte Suprema ...  2021-10-07         \n",
       "1     Así lo dio a conocer la autoridad sanitaria, d...  2021-10-07         \n",
       "2      Cabe consinar que a nivel nacional son más 21...  2021-10-06         \n",
       "3     Con la participación de representantes de adul...  2021-10-05         \n",
       "4      El objetivo es adecuar el sistema eléctrico a...  2021-10-06         \n",
       "...                                                 ...         ...    ...  \n",
       "1081  Este miércoles continuó en el Séptimo Juzgado ...  2021-10-07         \n",
       "1315  Tal como lo proyectó el vicepresidente Jaime B...  2021-10-05         \n",
       "1316  Este miércoles la Comisión de Constitución del...  2021-10-05         \n",
       "1320  Tras la polémica revelación de los llamados Pa...  2021-10-05         \n",
       "1367  El Presidente Sebastián Piñera respondió ayer ...  2021-10-05         \n",
       "\n",
       "[588 rows x 8 columns]"
      ]
     },
     "execution_count": 19,
     "metadata": {},
     "output_type": "execute_result"
    }
   ],
   "source": [
    "df"
   ]
  },
  {
   "cell_type": "markdown",
   "id": "0b2faf53",
   "metadata": {},
   "source": [
    "- Guardar los archivos en un CSV"
   ]
  },
  {
   "cell_type": "code",
   "execution_count": 21,
   "id": "b1371e58",
   "metadata": {},
   "outputs": [
    {
     "name": "stdout",
     "output_type": "stream",
     "text": [
      "El archivo se llama:\n",
      "_los_lagos_2021-10-01_2021-10-08.csv\n"
     ]
    }
   ],
   "source": [
    "nombre_archivo=keyword.replace(' ', '')+\"_\"+\"los_lagos\"+\"_\"+from_+\"_\"+to_+\".csv\"\n",
    "print(\"El archivo se llama:\")\n",
    "print(nombre_archivo)\n",
    "df.to_csv(\"./\"+nombre_archivo)"
   ]
  },
  {
   "cell_type": "markdown",
   "id": "0a364f19",
   "metadata": {},
   "source": [
    "- Realizar algunas consultas SQL sobre el dataset"
   ]
  },
  {
   "cell_type": "code",
   "execution_count": 22,
   "id": "16f26651",
   "metadata": {},
   "outputs": [],
   "source": [
    "from pandasql import sqldf "
   ]
  },
  {
   "cell_type": "code",
   "execution_count": 23,
   "id": "8da54d23",
   "metadata": {},
   "outputs": [
    {
     "data": {
      "text/html": [
       "<div>\n",
       "<style scoped>\n",
       "    .dataframe tbody tr th:only-of-type {\n",
       "        vertical-align: middle;\n",
       "    }\n",
       "\n",
       "    .dataframe tbody tr th {\n",
       "        vertical-align: top;\n",
       "    }\n",
       "\n",
       "    .dataframe thead th {\n",
       "        text-align: right;\n",
       "    }\n",
       "</style>\n",
       "<table border=\"1\" class=\"dataframe\">\n",
       "  <thead>\n",
       "    <tr style=\"text-align: right;\">\n",
       "      <th></th>\n",
       "      <th>media_outlet</th>\n",
       "      <th>count(*)</th>\n",
       "    </tr>\n",
       "  </thead>\n",
       "  <tbody>\n",
       "    <tr>\n",
       "      <th>0</th>\n",
       "      <td>laestrelladechiloe</td>\n",
       "      <td>102</td>\n",
       "    </tr>\n",
       "    <tr>\n",
       "      <th>1</th>\n",
       "      <td>radiosago</td>\n",
       "      <td>89</td>\n",
       "    </tr>\n",
       "    <tr>\n",
       "      <th>2</th>\n",
       "      <td>elllanquihue</td>\n",
       "      <td>84</td>\n",
       "    </tr>\n",
       "    <tr>\n",
       "      <th>3</th>\n",
       "      <td>elaustral</td>\n",
       "      <td>84</td>\n",
       "    </tr>\n",
       "    <tr>\n",
       "      <th>4</th>\n",
       "      <td>elheraldoaustral</td>\n",
       "      <td>43</td>\n",
       "    </tr>\n",
       "    <tr>\n",
       "      <th>5</th>\n",
       "      <td>elinsular</td>\n",
       "      <td>36</td>\n",
       "    </tr>\n",
       "    <tr>\n",
       "      <th>6</th>\n",
       "      <td>elrepuertero</td>\n",
       "      <td>35</td>\n",
       "    </tr>\n",
       "    <tr>\n",
       "      <th>7</th>\n",
       "      <td>seminariolocal</td>\n",
       "      <td>24</td>\n",
       "    </tr>\n",
       "    <tr>\n",
       "      <th>8</th>\n",
       "      <td>elvacanudo</td>\n",
       "      <td>23</td>\n",
       "    </tr>\n",
       "    <tr>\n",
       "      <th>9</th>\n",
       "      <td>radioacogida</td>\n",
       "      <td>17</td>\n",
       "    </tr>\n",
       "    <tr>\n",
       "      <th>10</th>\n",
       "      <td>elhuemul</td>\n",
       "      <td>15</td>\n",
       "    </tr>\n",
       "    <tr>\n",
       "      <th>11</th>\n",
       "      <td>radiopudeto</td>\n",
       "      <td>14</td>\n",
       "    </tr>\n",
       "    <tr>\n",
       "      <th>12</th>\n",
       "      <td>elquellonino</td>\n",
       "      <td>10</td>\n",
       "    </tr>\n",
       "    <tr>\n",
       "      <th>13</th>\n",
       "      <td>elcalbucano</td>\n",
       "      <td>8</td>\n",
       "    </tr>\n",
       "    <tr>\n",
       "      <th>14</th>\n",
       "      <td>fresiaahora</td>\n",
       "      <td>4</td>\n",
       "    </tr>\n",
       "  </tbody>\n",
       "</table>\n",
       "</div>"
      ],
      "text/plain": [
       "          media_outlet  count(*)\n",
       "0   laestrelladechiloe       102\n",
       "1            radiosago        89\n",
       "2         elllanquihue        84\n",
       "3            elaustral        84\n",
       "4     elheraldoaustral        43\n",
       "5            elinsular        36\n",
       "6         elrepuertero        35\n",
       "7       seminariolocal        24\n",
       "8           elvacanudo        23\n",
       "9         radioacogida        17\n",
       "10            elhuemul        15\n",
       "11         radiopudeto        14\n",
       "12        elquellonino        10\n",
       "13         elcalbucano         8\n",
       "14         fresiaahora         4"
      ]
     },
     "execution_count": 23,
     "metadata": {},
     "output_type": "execute_result"
    }
   ],
   "source": [
    "result = sqldf(\"SELECT media_outlet,count(*) FROM df GROUP BY media_outlet ORDER BY count(*) DESC\")\n",
    "result"
   ]
  },
  {
   "cell_type": "code",
   "execution_count": null,
   "id": "eca4c33d",
   "metadata": {},
   "outputs": [],
   "source": []
  },
  {
   "cell_type": "code",
   "execution_count": null,
   "id": "55a21946",
   "metadata": {},
   "outputs": [],
   "source": []
  },
  {
   "cell_type": "code",
   "execution_count": null,
   "id": "f1318799",
   "metadata": {},
   "outputs": [],
   "source": []
  }
 ],
 "metadata": {
  "kernelspec": {
   "display_name": "Python 3 (ipykernel)",
   "language": "python",
   "name": "python3"
  },
  "language_info": {
   "codemirror_mode": {
    "name": "ipython",
    "version": 3
   },
   "file_extension": ".py",
   "mimetype": "text/x-python",
   "name": "python",
   "nbconvert_exporter": "python",
   "pygments_lexer": "ipython3",
   "version": "3.8.10"
  }
 },
 "nbformat": 4,
 "nbformat_minor": 5
}
